{
 "cells": [
  {
   "cell_type": "code",
   "execution_count": 1,
   "metadata": {
    "collapsed": false
   },
   "outputs": [],
   "source": [
    "from __future__ import print_function, division\n",
    "from builtins import range\n",
    "import numpy as np\n",
    "import matplotlib.pyplot as plt\n",
    "%matplotlib inline"
   ]
  },
  {
   "cell_type": "code",
   "execution_count": 2,
   "metadata": {
    "collapsed": true
   },
   "outputs": [],
   "source": [
    "ALPHA = 0.1\n",
    "GAMMA = 0.9\n",
    "POSSIBLE_ACTIONS = ('U','D','L','R') "
   ]
  },
  {
   "cell_type": "code",
   "execution_count": 3,
   "metadata": {
    "collapsed": true
   },
   "outputs": [],
   "source": [
    "#Environment\n",
    "class Grid:\n",
    "    def __init__(self, width, height, start):\n",
    "        self.width = width\n",
    "        self.height = height\n",
    "        self.i = start[0]\n",
    "        self.j = start[1]\n",
    "        \n",
    "    def set(self, rewards, actions):\n",
    "        self.rewards = rewards\n",
    "        self.actions = actions\n",
    "        \n",
    "    def set_state(self, state):\n",
    "        self.i = state[0]\n",
    "        self.j = state[1]\n",
    "        \n",
    "    def current_state(self):\n",
    "        return(self.i, self.j)\n",
    "\n",
    "    def is_terminal(self, s):\n",
    "        return s not in self.actions \n",
    "    \n",
    "    def move(self, action):\n",
    "        if action in self.actions[(self.i, self.j)]:\n",
    "            if action == 'U':\n",
    "                self.i -= 1\n",
    "            elif action =='D':\n",
    "                self.i += 1\n",
    "            elif action == 'R':\n",
    "                self.j += 1\n",
    "            elif action == 'L':\n",
    "                self.j -= 1 \n",
    "        \n",
    "        return self.rewards.get((self.i, self.j), 0)\n",
    "        \n",
    "    \n",
    "    def undo_move(self):\n",
    "        if action == 'U':\n",
    "            self.i += 1\n",
    "        elif action =='D':\n",
    "            self.i -= 1\n",
    "        elif action == 'R':\n",
    "            self.j -= 1\n",
    "        elif action == 'L':\n",
    "            self.j += 1 \n",
    "        \n",
    "        assert(self.current_state() in self.all_states())\n",
    "                \n",
    "            \n",
    "    def game_over(self):\n",
    "        return (self.i, self.j) not in self.actions\n",
    "    \n",
    "    \n",
    "    def all_states(self):\n",
    "        return set().union(self.actions.keys(), self.rewards.keys())\n",
    "\n",
    "    "
   ]
  },
  {
   "cell_type": "code",
   "execution_count": 4,
   "metadata": {
    "collapsed": true
   },
   "outputs": [],
   "source": [
    "def standard_grid():\n",
    "    # .  .  .  1\n",
    "    # .  x  .  -1\n",
    "    # s  .  .  .\n",
    "    \n",
    "    # 1, -1 are rewards for the corresponding positions\n",
    "    # 'x'  not allowed\n",
    "    # 's'  start state\n",
    "    grid = Grid(3, 4, (2,0))\n",
    "    rewards = {(0,3) : 1, (1,3) : -1}\n",
    "    actions = {\n",
    "        (0, 0): ('D', 'R'),\n",
    "        (0, 1): ('L', 'R'),\n",
    "        (0, 2): ('L', 'D', 'R'),\n",
    "        (1, 0): ('U', 'D'),\n",
    "        (1, 2): ('U', 'D', 'R'),\n",
    "        (2, 0): ('U', 'R'),\n",
    "        (2, 1): ('L', 'R'),\n",
    "        (2, 2): ('L', 'R', 'U'),\n",
    "        (2, 3): ('L', 'U'),\n",
    "    }\n",
    "    grid.set(rewards, actions)\n",
    "    return grid"
   ]
  },
  {
   "cell_type": "code",
   "execution_count": 5,
   "metadata": {
    "collapsed": true
   },
   "outputs": [],
   "source": [
    "def negative_grid(step_cost=-0.1):\n",
    "    grid = standard_grid()\n",
    "    grid.rewards.update({\n",
    "            (0, 0): step_cost,\n",
    "            (0, 1): step_cost,\n",
    "            (0, 2): step_cost,\n",
    "            (1, 0): step_cost,\n",
    "            (1, 2): step_cost,\n",
    "            (2, 0): step_cost,\n",
    "            (2, 1): step_cost,\n",
    "            (2, 2): step_cost,\n",
    "            (2, 3): step_cost,\n",
    "    })\n",
    "    return grid"
   ]
  },
  {
   "cell_type": "code",
   "execution_count": 6,
   "metadata": {
    "collapsed": true
   },
   "outputs": [],
   "source": [
    "def print_values(V, grid):\n",
    "    for i in range(grid.width):\n",
    "        print(\"---------------------------\")\n",
    "        for j in range(grid.height):\n",
    "            v = V.get((i,j), 0)\n",
    "            if v >= 0:\n",
    "                print(\" %.2f|\" % v, end=\"\")\n",
    "            else:\n",
    "                print(\"%.2f|\" % v, end=\"\") \n",
    "        print(\"\")"
   ]
  },
  {
   "cell_type": "code",
   "execution_count": 7,
   "metadata": {
    "collapsed": true
   },
   "outputs": [],
   "source": [
    "def print_policy(P, grid):\n",
    "    for i in range(grid.width):\n",
    "        print(\"---------------------------\")\n",
    "        for j in range(grid.height):\n",
    "            a = P.get((i,j), ' ')\n",
    "            print(\"  %s  |\" % a, end=\"\")\n",
    "        print(\"\")"
   ]
  },
  {
   "cell_type": "code",
   "execution_count": 8,
   "metadata": {
    "collapsed": false
   },
   "outputs": [],
   "source": [
    "def random_action(a, eps=0.1):\n",
    "    p = np.random.random()\n",
    "    if p < eps:\n",
    "        return np.random.choice(POSSIBLE_ACTIONS)\n",
    "    else:\n",
    "        return a"
   ]
  },
  {
   "cell_type": "code",
   "execution_count": 9,
   "metadata": {
    "collapsed": true
   },
   "outputs": [],
   "source": [
    "def max_dict(d):\n",
    "    max_key = None\n",
    "    max_val = float('-inf')\n",
    "\n",
    "    for k, v in d.items():\n",
    "        if v > max_val:\n",
    "            max_val = v\n",
    "            max_key = k\n",
    "    return max_key, max_val"
   ]
  },
  {
   "cell_type": "code",
   "execution_count": 10,
   "metadata": {
    "collapsed": false
   },
   "outputs": [],
   "source": [
    "class Model:\n",
    "\n",
    "    def __init__(self):\n",
    "        self.theta = np.random.randn(25) \n",
    "\n",
    "\n",
    "    def stateToFeatures(self, s, a):\n",
    "        return np.array([\n",
    "            s[0]              if a == 'U' else 0,\n",
    "            s[1]              if a == 'U' else 0,\n",
    "            (s[0]*s[1])        if a == 'U' else 0,\n",
    "            (s[0]*s[0])        if a == 'U' else 0,\n",
    "            (s[1]*s[1])        if a == 'U' else 0,\n",
    "            1                 if a == 'U' else 0,\n",
    "            s[0]              if a == 'D' else 0,\n",
    "            s[1]              if a == 'D' else 0,\n",
    "            (s[0]*s[1])        if a == 'D' else 0,\n",
    "            (s[0]*s[0])        if a == 'D' else 0,\n",
    "            (s[1]*s[1])        if a == 'D' else 0,\n",
    "            1                 if a == 'D' else 0,\n",
    "            s[0]              if a == 'L' else 0,\n",
    "            s[1]              if a == 'L' else 0,\n",
    "            (s[0]*s[1])       if a == 'L' else 0,\n",
    "            (s[0]*s[0])       if a == 'L' else 0,\n",
    "            (s[1]*s[1])       if a == 'L' else 0,\n",
    "            1                if a == 'L' else 0,\n",
    "            s[0]             if a == 'R' else 0,\n",
    "            s[1]             if a == 'R' else 0,\n",
    "            (s[0]*s[1])       if a == 'R' else 0,\n",
    "            (s[0]*s[0])       if a == 'R' else 0,\n",
    "            (s[1]*s[1])       if a == 'R' else 0,\n",
    "            1                if a == 'R' else 0,\n",
    "            1\n",
    "        ])\n",
    "\n",
    "    def predict(self, s, a):\n",
    "        x = self.stateToFeatures(s, a)\n",
    "        return self.theta.dot(x)\n",
    "\n",
    "\n",
    "\n",
    "    def grad(self, s, a):\n",
    "        return self.stateToFeatures(s, a)"
   ]
  },
  {
   "cell_type": "code",
   "execution_count": 11,
   "metadata": {
    "collapsed": true
   },
   "outputs": [],
   "source": [
    "def getQA(model, s):\n",
    "    Qs = {}\n",
    "    for a in POSSIBLE_ACTIONS:\n",
    "        q_sa = model.predict(s, a)\n",
    "        Qs[a] = q_sa\n",
    "    return Qs"
   ]
  },
  {
   "cell_type": "code",
   "execution_count": null,
   "metadata": {
    "collapsed": false
   },
   "outputs": [],
   "source": [
    "if __name__ == '__main__':\n",
    "    grid = negative_grid(step_cost=-0.1)\n",
    "    \n",
    "    print(\"Rewards\")\n",
    "    print_values(grid.rewards, grid)\n",
    "    \n",
    "    model = Model()\n",
    "    deltas = []\n",
    "    t = 1.0\n",
    "    for e in range(5000):\n",
    "        if e % 100 == 0:\n",
    "           t += 0.01\n",
    "        \n",
    "        alpha = ALPHA / t\n",
    "    \n",
    "        s = (2,0)\n",
    "        grid.set_state(s)\n",
    "        \n",
    "        Qs = getQA(model, s)\n",
    "        \n",
    "        a = max_dict(Qs)[0]\n",
    "        a = random_action(a, eps=0.5/t) \n",
    "        \n",
    "\n",
    "        max_change = 0        \n",
    "        while not grid.game_over():\n",
    "            r = grid.move(a)\n",
    "            s_next = grid.current_state()\n",
    "            \n",
    "            old_theta = model.theta.copy()\n",
    "            if grid.is_terminal(s_next):\n",
    "                model.theta += alpha*(r - model.predict(s, a)) * model.grad(s, a)\n",
    "            else:\n",
    "                Qs_next = getQA(model, s_next)\n",
    "                a_next = max_dict(Qs_next)[0]\n",
    "                a_next = random_action(a_next, eps=0.5/t) \n",
    "                model.theta += alpha*(r + GAMMA*model.predict(s_next, a_next) - model.predict(s, a))*model.grad(s, a)\n",
    "\n",
    "            s = s_next\n",
    "            a = a_next\n",
    "            max_change = max(max_change, np.abs(model.theta - old_theta).sum())\n",
    "        deltas.append(max_change)\n",
    "        \n",
    "        \n",
    "    plt.plot(deltas)\n",
    "    plt.show()\n",
    "\n",
    "    policy = {}\n",
    "    V = {}\n",
    "    Q = {}\n",
    "    for s in grid.actions.keys():\n",
    "        Qs = getQA(model, s)\n",
    "        Q[s] = Qs\n",
    "        a, max_q = max_dict(Qs)\n",
    "        policy[s] = a\n",
    "        V[s] = max_q\n",
    "\n",
    "    print(\"\\n\\n values\")\n",
    "    print_values(V, grid)\n",
    "\n",
    "    print(\"\\n\\npolicy\")\n",
    "    print_policy(policy, grid)"
   ]
  },
  {
   "cell_type": "code",
   "execution_count": null,
   "metadata": {
    "collapsed": true
   },
   "outputs": [],
   "source": []
  }
 ],
 "metadata": {
  "kernelspec": {
   "display_name": "Python 3",
   "language": "python",
   "name": "python3"
  },
  "language_info": {
   "codemirror_mode": {
    "name": "ipython",
    "version": 3
   },
   "file_extension": ".py",
   "mimetype": "text/x-python",
   "name": "python",
   "nbconvert_exporter": "python",
   "pygments_lexer": "ipython3",
   "version": "3.6.2"
  }
 },
 "nbformat": 4,
 "nbformat_minor": 0
}
