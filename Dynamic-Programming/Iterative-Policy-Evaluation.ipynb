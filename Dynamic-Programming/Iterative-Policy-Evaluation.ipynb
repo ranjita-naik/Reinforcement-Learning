{
 "cells": [
  {
   "cell_type": "code",
   "execution_count": 17,
   "metadata": {
    "collapsed": false
   },
   "outputs": [],
   "source": [
    "from __future__ import print_function, division\n",
    "from builtins import range\n",
    "import numpy as np"
   ]
  },
  {
   "cell_type": "code",
   "execution_count": 18,
   "metadata": {
    "collapsed": true
   },
   "outputs": [],
   "source": [
    "#Environment\n",
    "class Grid:\n",
    "    def __init__(self, width, height, start):\n",
    "        self.width = width\n",
    "        self.height = height\n",
    "        self.i = start[0]\n",
    "        self.j = start[1]\n",
    "        \n",
    "    def set(self, rewards, actions):\n",
    "        self.rewards = rewards\n",
    "        self.actions = actions\n",
    "        \n",
    "    def set_state(self, state):\n",
    "        self.i = state[0]\n",
    "        self.j = state[1]\n",
    "        \n",
    "    def current_state(self):\n",
    "        return(self.i, self.j)\n",
    "\n",
    "    \n",
    "    def move(self, action):\n",
    "        if action in self.actions[(self.i, self.j)]:\n",
    "            if action == 'U':\n",
    "                self.i -= 1\n",
    "            elif action =='D':\n",
    "                self.i += 1\n",
    "            elif action == 'R':\n",
    "                self.j += 1\n",
    "            elif action == 'L':\n",
    "                self.j -= 1 \n",
    "        \n",
    "        return self.rewards.get((self.i, self.j), 0)\n",
    "                        \n",
    "    \n",
    "    def all_states(self):\n",
    "        return set().union(self.actions.keys(), self.rewards.keys())\n",
    "        #return set(self.actions.keys() + self.rewards.keys())\n",
    "    "
   ]
  },
  {
   "cell_type": "code",
   "execution_count": 19,
   "metadata": {
    "collapsed": true
   },
   "outputs": [],
   "source": [
    "def standard_grid():\n",
    "    # .  .  .  1\n",
    "    # .  x  .  -1\n",
    "    # s  .  .  .\n",
    "    \n",
    "    # 1, -1 are rewards for the corresponding positions\n",
    "    # 'x'  not allowed\n",
    "    # 's'  start state\n",
    "    grid = Grid(3, 4, (2,0))\n",
    "    rewards = {(0,3) : 1, (1,3) : -1}\n",
    "    actions = {\n",
    "        (0, 0): ('D', 'R'),\n",
    "        (0, 1): ('L', 'R'),\n",
    "        (0, 2): ('L', 'D', 'R'),\n",
    "        (1, 0): ('U', 'D'),\n",
    "        (1, 2): ('U', 'D', 'R'),\n",
    "        (2, 0): ('U', 'R'),\n",
    "        (2, 1): ('L', 'R'),\n",
    "        (2, 2): ('L', 'R', 'U'),\n",
    "        (2, 3): ('L', 'U'),\n",
    "    }\n",
    "    grid.set(rewards, actions)\n",
    "    return grid"
   ]
  },
  {
   "cell_type": "code",
   "execution_count": 20,
   "metadata": {
    "collapsed": true
   },
   "outputs": [],
   "source": [
    "convergence_threshold = 1e-3"
   ]
  },
  {
   "cell_type": "code",
   "execution_count": 21,
   "metadata": {
    "collapsed": true
   },
   "outputs": [],
   "source": [
    "def print_values(V, grid):\n",
    "    for i in range(grid.width):\n",
    "        print(\"---------------------------\")\n",
    "        for j in range(grid.height):\n",
    "            v = V.get((i,j), 0)\n",
    "            if v >= 0:\n",
    "                print(\" %.2f|\" % v, end=\"\")\n",
    "            else:\n",
    "                print(\"%.2f|\" % v, end=\"\") \n",
    "        print(\"\")"
   ]
  },
  {
   "cell_type": "code",
   "execution_count": 22,
   "metadata": {
    "collapsed": true
   },
   "outputs": [],
   "source": [
    "def print_policy(P, grid):\n",
    "    for i in range(grid.width):\n",
    "        print(\"---------------------------\")\n",
    "        for j in range(grid.height):\n",
    "            a = P.get((i,j), ' ')\n",
    "            print(\"  %s  |\" % a, end=\"\")\n",
    "        print(\"\")"
   ]
  },
  {
   "cell_type": "code",
   "execution_count": 23,
   "metadata": {
    "collapsed": false
   },
   "outputs": [
    {
     "name": "stdout",
     "output_type": "stream",
     "text": [
      "{(0, 1), (1, 2), (0, 0), (1, 3), (2, 1), (2, 0), (2, 3), (2, 2), (1, 0), (0, 2), (0, 3)}\n",
      "Value function for uniform random action\n",
      "---------------------------\n",
      "-0.03| 0.09| 0.22| 0.00|\n",
      "---------------------------\n",
      "-0.16| 0.00|-0.44| 0.00|\n",
      "---------------------------\n",
      "-0.29|-0.41|-0.54|-0.77|\n",
      "\n",
      "\n",
      "\n",
      "---------------------------\n",
      "  R  |  R  |  R  |     |\n",
      "---------------------------\n",
      "  U  |     |  R  |     |\n",
      "---------------------------\n",
      "  U  |  R  |  R  |  U  |\n",
      "\n",
      "\n",
      "Value function for uniform random action\n",
      "---------------------------\n",
      " 0.81| 0.90| 1.00| 0.00|\n",
      "---------------------------\n",
      " 0.73| 0.00|-1.00| 0.00|\n",
      "---------------------------\n",
      " 0.66|-0.81|-0.90|-1.00|\n",
      "\n",
      "\n",
      "\n"
     ]
    }
   ],
   "source": [
    "if __name__ == '__main__':\n",
    "\n",
    "    # find the value function for the given policy\n",
    "    # (p(s',r|s,a)  is deterministic\n",
    "    \n",
    "    grid = standard_grid()\n",
    "    states = grid.all_states()\n",
    "    print(states)\n",
    "    \n",
    "    # unifrom random action policy\n",
    "    V = {}\n",
    "    for s in states:\n",
    "        V[s] = 0\n",
    "        \n",
    "    # discount factor\n",
    "    gamma = 1.0\n",
    "    \n",
    "    while True:\n",
    "        max_change = 0 \n",
    "        for s in states:\n",
    "            old_v = V[s]\n",
    "\n",
    "            if s in grid.actions:\n",
    "                new_v = 0\n",
    "                p_a = 1.0 / len(grid.actions[s])\n",
    "                \n",
    "                for a in grid.actions[s]:\n",
    "                    grid.set_state(s)\n",
    "                    r = grid.move(a)\n",
    "                    new_v = new_v + p_a * ( r + gamma * V[grid.current_state()])\n",
    "\n",
    "                V[s] = new_v\n",
    "                max_change = max(max_change, np.abs(old_v - V[s]))\n",
    "        \n",
    "        if max_change < convergence_threshold:\n",
    "            break\n",
    "            \n",
    "    print(\"Value function for uniform random action\")\n",
    "    print_values(V,grid)\n",
    "    print(\"\\n\\n\")\n",
    "    \n",
    "    \n",
    "    \n",
    "    # FIXED POLICY\n",
    "    policy = {\n",
    "        (2, 0): 'U',\n",
    "        (1, 0): 'U',\n",
    "        (0, 0): 'R',\n",
    "        (0, 1): 'R',\n",
    "        (0, 2): 'R',\n",
    "        (1, 2): 'R',\n",
    "        (2, 1): 'R',\n",
    "        (2, 2): 'R',\n",
    "        (2, 3): 'U',\n",
    "    }\n",
    "\n",
    "    print_policy(policy, grid)\n",
    "    V = {}\n",
    "    for s in states:\n",
    "        V[s] = 0\n",
    "        \n",
    "    # discount factor\n",
    "    gamma = 0.9\n",
    "    \n",
    "    while True:\n",
    "        max_change = 0 \n",
    "        for s in states:\n",
    "            old_v = V[s]\n",
    "            \n",
    "            if s in policy:\n",
    "                a = policy[s]                \n",
    "                grid.set_state(s)\n",
    "                r = grid.move(a)\n",
    "                V[s] = r + gamma * V[grid.current_state()]\n",
    "                max_change = max(max_change, np.abs(old_v - V[s]))\n",
    "        \n",
    "        if max_change < convergence_threshold:\n",
    "            break\n",
    "            \n",
    "    print(\"\\n\\nValue function for uniform random action\")\n",
    "    print_values(V,grid)\n",
    "    print(\"\\n\\n\") "
   ]
  }
 ],
 "metadata": {
  "kernelspec": {
   "display_name": "Python 3",
   "language": "python",
   "name": "python3"
  },
  "language_info": {
   "codemirror_mode": {
    "name": "ipython",
    "version": 3
   },
   "file_extension": ".py",
   "mimetype": "text/x-python",
   "name": "python",
   "nbconvert_exporter": "python",
   "pygments_lexer": "ipython3",
   "version": "3.6.2"
  }
 },
 "nbformat": 4,
 "nbformat_minor": 0
}
