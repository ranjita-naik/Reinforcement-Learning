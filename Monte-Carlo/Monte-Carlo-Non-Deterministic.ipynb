{
 "cells": [
  {
   "cell_type": "code",
   "execution_count": 1,
   "metadata": {
    "collapsed": false
   },
   "outputs": [],
   "source": [
    "from __future__ import print_function, division\n",
    "from builtins import range\n",
    "import numpy as np"
   ]
  },
  {
   "cell_type": "code",
   "execution_count": 2,
   "metadata": {
    "collapsed": true
   },
   "outputs": [],
   "source": [
    "#Environment\n",
    "class Grid:\n",
    "    def __init__(self, width, height, start):\n",
    "        self.width = width\n",
    "        self.height = height\n",
    "        self.i = start[0]\n",
    "        self.j = start[1]\n",
    "        \n",
    "    def set(self, rewards, actions):\n",
    "        self.rewards = rewards\n",
    "        self.actions = actions\n",
    "        \n",
    "    def set_state(self, state):\n",
    "        self.i = state[0]\n",
    "        self.j = state[1]\n",
    "        \n",
    "    def current_state(self):\n",
    "        return(self.i, self.j)\n",
    "\n",
    "    def is_terminal(self, s):\n",
    "        return s not in self.actions \n",
    "    \n",
    "    def move(self, action):\n",
    "        if action in self.actions[(self.i, self.j)]:\n",
    "            if action == 'U':\n",
    "                self.i -= 1\n",
    "            elif action =='D':\n",
    "                self.i += 1\n",
    "            elif action == 'R':\n",
    "                self.j += 1\n",
    "            elif action == 'L':\n",
    "                self.j -= 1 \n",
    "        \n",
    "        return self.rewards.get((self.i, self.j), 0)\n",
    "        \n",
    "    \n",
    "    def undo_move(self):\n",
    "        if action == 'U':\n",
    "            self.i += 1\n",
    "        elif action =='D':\n",
    "            self.i -= 1\n",
    "        elif action == 'R':\n",
    "            self.j -= 1\n",
    "        elif action == 'L':\n",
    "            self.j += 1 \n",
    "        \n",
    "        assert(self.current_state() in self.all_states())\n",
    "                \n",
    "            \n",
    "    def game_over(self):\n",
    "        return (self.i, self.j) not in self.actions\n",
    "    \n",
    "    \n",
    "    def all_states(self):\n",
    "        return set().union(self.actions.keys(), self.rewards.keys())\n",
    "\n",
    "    "
   ]
  },
  {
   "cell_type": "code",
   "execution_count": 3,
   "metadata": {
    "collapsed": true
   },
   "outputs": [],
   "source": [
    "def standard_grid():\n",
    "    # .  .  .  1\n",
    "    # .  x  .  -1\n",
    "    # s  .  .  .\n",
    "    \n",
    "    # 1, -1 are rewards for the corresponding positions\n",
    "    # 'x'  not allowed\n",
    "    # 's'  start state\n",
    "    grid = Grid(3, 4, (2,0))\n",
    "    rewards = {(0,3) : 1, (1,3) : -1}\n",
    "    actions = {\n",
    "        (0, 0): ('D', 'R'),\n",
    "        (0, 1): ('L', 'R'),\n",
    "        (0, 2): ('L', 'D', 'R'),\n",
    "        (1, 0): ('U', 'D'),\n",
    "        (1, 2): ('U', 'D', 'R'),\n",
    "        (2, 0): ('U', 'R'),\n",
    "        (2, 1): ('L', 'R'),\n",
    "        (2, 2): ('L', 'R', 'U'),\n",
    "        (2, 3): ('L', 'U'),\n",
    "    }\n",
    "    grid.set(rewards, actions)\n",
    "    return grid"
   ]
  },
  {
   "cell_type": "code",
   "execution_count": 4,
   "metadata": {
    "collapsed": true
   },
   "outputs": [],
   "source": [
    "def negative_grid(step_cost=-0.1):\n",
    "    grid = standard_grid()\n",
    "    grid.rewards.update({\n",
    "            (0, 0): step_cost,\n",
    "            (0, 1): step_cost,\n",
    "            (0, 2): step_cost,\n",
    "            (1, 0): step_cost,\n",
    "            (1, 2): step_cost,\n",
    "            (2, 0): step_cost,\n",
    "            (2, 1): step_cost,\n",
    "            (2, 2): step_cost,\n",
    "            (2, 3): step_cost,\n",
    "    })\n",
    "    return grid"
   ]
  },
  {
   "cell_type": "code",
   "execution_count": 5,
   "metadata": {
    "collapsed": true
   },
   "outputs": [],
   "source": [
    "def print_values(V, grid):\n",
    "    for i in range(grid.width):\n",
    "        print(\"---------------------------\")\n",
    "        for j in range(grid.height):\n",
    "            v = V.get((i,j), 0)\n",
    "            if v >= 0:\n",
    "                print(\" %.2f|\" % v, end=\"\")\n",
    "            else:\n",
    "                print(\"%.2f|\" % v, end=\"\") \n",
    "        print(\"\")"
   ]
  },
  {
   "cell_type": "code",
   "execution_count": 12,
   "metadata": {
    "collapsed": true
   },
   "outputs": [],
   "source": [
    "def print_policy(P, grid):\n",
    "    for i in range(grid.width):\n",
    "        print(\"---------------------------\")\n",
    "        for j in range(grid.height):\n",
    "            a = P.get((i,j), ' ')\n",
    "            print(\"  %s  |\" % a, end=\"\")\n",
    "        print(\"\")"
   ]
  },
  {
   "cell_type": "code",
   "execution_count": 13,
   "metadata": {
    "collapsed": false
   },
   "outputs": [],
   "source": [
    "CONVERGENCE_THRESHOLD = 10e-4\n",
    "GAMMA = 0.9\n",
    "POSSIBLE_ACTIONS = ('U','D','L','R') "
   ]
  },
  {
   "cell_type": "code",
   "execution_count": 14,
   "metadata": {
    "collapsed": true
   },
   "outputs": [],
   "source": [
    "def random_action(a):\n",
    "    p = np.random.random()\n",
    "    if p < 0.5 :\n",
    "        return a\n",
    "    else:\n",
    "        tmp = list(POSSIBLE_ACTIONS)\n",
    "        tmp.remove(a)\n",
    "        return np.random.choice(tmp)"
   ]
  },
  {
   "cell_type": "code",
   "execution_count": 15,
   "metadata": {
    "collapsed": true
   },
   "outputs": [],
   "source": [
    "def play_grid_world(grid, policy):\n",
    "    \n",
    "    # generate the start state randomly\n",
    "    start_state = list(grid.actions.keys())\n",
    "    start_index = np.random.choice(len(start_state))\n",
    "    grid.set_state(start_state[start_index])\n",
    "\n",
    "    \n",
    "    s = grid.current_state()\n",
    "    states_and_rewards = [(s, 0)]\n",
    "    #play the game and capture the reward\n",
    "    while not grid.game_over():\n",
    "        a = policy[s]\n",
    "        a = random_action(a)\n",
    "        r = grid.move(a)\n",
    "        s = grid.current_state()\n",
    "        states_and_rewards.append((s, r))\n",
    "\n",
    "    \n",
    "    # calculate returns\n",
    "    G = 0\n",
    "    states_and_returns = []\n",
    "    first = True\n",
    "    for s, r in reversed(states_and_rewards):\n",
    "        if first:\n",
    "            first = False\n",
    "        else:\n",
    "            states_and_returns.append((s,G))\n",
    "        G = r + GAMMA * G\n",
    "    states_and_returns.reverse()\n",
    "    return states_and_returns"
   ]
  },
  {
   "cell_type": "code",
   "execution_count": 16,
   "metadata": {
    "collapsed": false
   },
   "outputs": [
    {
     "name": "stdout",
     "output_type": "stream",
     "text": [
      "Rewards\n",
      "---------------------------\n",
      " 0.00| 0.00| 0.00| 1.00|\n",
      "---------------------------\n",
      " 0.00| 0.00| 0.00|-1.00|\n",
      "---------------------------\n",
      " 0.00| 0.00| 0.00| 0.00|\n",
      "\n",
      "\n",
      "values\n",
      "---------------------------\n",
      " 0.42| 0.55| 0.72| 0.00|\n",
      "---------------------------\n",
      " 0.32| 0.00| 0.19| 0.00|\n",
      "---------------------------\n",
      " 0.24| 0.18| 0.09|-0.19|\n",
      "\n",
      "\n",
      "policy\n",
      "---------------------------\n",
      "  R  |  R  |  R  |     |\n",
      "---------------------------\n",
      "  U  |     |  U  |     |\n",
      "---------------------------\n",
      "  U  |  L  |  U  |  L  |\n"
     ]
    }
   ],
   "source": [
    "if __name__ == '__main__':\n",
    "    grid = standard_grid()\n",
    "    \n",
    "    print(\"Rewards\")\n",
    "    print_values(grid.rewards, grid)\n",
    "    \n",
    "    \n",
    "    # policy\n",
    "    policy = {\n",
    "        (0,0):'R',\n",
    "        (1,0):'U',\n",
    "        (2,0):'U',\n",
    "        (0,1):'R',\n",
    "        (1,2):'U',\n",
    "        (2,1):'L',\n",
    "        (0,2):'R',\n",
    "        (2,2):'U',\n",
    "        (2,3):'L',\n",
    "    }\n",
    "    \n",
    "    V = {}\n",
    "    returns = {}\n",
    "    states = grid.all_states()\n",
    "    for s in states:\n",
    "        if s in grid.actions :\n",
    "            returns[s] = []\n",
    "        else:\n",
    "            V[s] = 0\n",
    "            \n",
    "            \n",
    "    for e in range(6000):\n",
    "        # play an episode\n",
    "        states_and_returns = play_grid_world(grid, policy)\n",
    "        \n",
    "        seen_states = set()\n",
    "        for s, G in states_and_returns:\n",
    "            if s not in seen_states:\n",
    "                returns[s].append(G)\n",
    "                V[s] = np.mean(returns[s])\n",
    "                seen_states.add(s)\n",
    "        \n",
    "    print(\"\\n\\nvalues\")\n",
    "    print_values(V, grid)\n",
    "    \n",
    "    print(\"\\n\\npolicy\")\n",
    "    print_policy(policy, grid)"
   ]
  },
  {
   "cell_type": "code",
   "execution_count": null,
   "metadata": {
    "collapsed": true
   },
   "outputs": [],
   "source": []
  }
 ],
 "metadata": {
  "kernelspec": {
   "display_name": "Python 3",
   "language": "python",
   "name": "python3"
  },
  "language_info": {
   "codemirror_mode": {
    "name": "ipython",
    "version": 3
   },
   "file_extension": ".py",
   "mimetype": "text/x-python",
   "name": "python",
   "nbconvert_exporter": "python",
   "pygments_lexer": "ipython3",
   "version": "3.6.2"
  }
 },
 "nbformat": 4,
 "nbformat_minor": 0
}
