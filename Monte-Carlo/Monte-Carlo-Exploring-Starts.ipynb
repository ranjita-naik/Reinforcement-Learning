{
 "cells": [
  {
   "cell_type": "code",
   "execution_count": 1,
   "metadata": {
    "collapsed": false
   },
   "outputs": [],
   "source": [
    "from __future__ import print_function, division\n",
    "from builtins import range\n",
    "import numpy as np\n",
    "import matplotlib.pyplot as plt\n",
    "\n",
    "%matplotlib inline"
   ]
  },
  {
   "cell_type": "code",
   "execution_count": 2,
   "metadata": {
    "collapsed": true
   },
   "outputs": [],
   "source": [
    "#Environment\n",
    "class Grid:\n",
    "    def __init__(self, width, height, start):\n",
    "        self.width = width\n",
    "        self.height = height\n",
    "        self.i = start[0]\n",
    "        self.j = start[1]\n",
    "        \n",
    "    def set(self, rewards, actions):\n",
    "        self.rewards = rewards\n",
    "        self.actions = actions\n",
    "        \n",
    "    def set_state(self, state):\n",
    "        self.i = state[0]\n",
    "        self.j = state[1]\n",
    "        \n",
    "    def current_state(self):\n",
    "        return(self.i, self.j)\n",
    "\n",
    "    def is_terminal(self, s):\n",
    "        return s not in self.actions \n",
    "    \n",
    "    def move(self, action):\n",
    "        if action in self.actions[(self.i, self.j)]:\n",
    "            if action == 'U':\n",
    "                self.i -= 1\n",
    "            elif action =='D':\n",
    "                self.i += 1\n",
    "            elif action == 'R':\n",
    "                self.j += 1\n",
    "            elif action == 'L':\n",
    "                self.j -= 1 \n",
    "        \n",
    "        return self.rewards.get((self.i, self.j), 0)\n",
    "        \n",
    "    \n",
    "    def undo_move(self):\n",
    "        if action == 'U':\n",
    "            self.i += 1\n",
    "        elif action =='D':\n",
    "            self.i -= 1\n",
    "        elif action == 'R':\n",
    "            self.j -= 1\n",
    "        elif action == 'L':\n",
    "            self.j += 1 \n",
    "        \n",
    "        assert(self.current_state() in self.all_states())\n",
    "                \n",
    "            \n",
    "    def game_over(self):\n",
    "        return (self.i, self.j) not in self.actions\n",
    "    \n",
    "    \n",
    "    def all_states(self):\n",
    "        return set().union(self.actions.keys(), self.rewards.keys())\n",
    "\n",
    "    "
   ]
  },
  {
   "cell_type": "code",
   "execution_count": 3,
   "metadata": {
    "collapsed": true
   },
   "outputs": [],
   "source": [
    "def standard_grid():\n",
    "    # .  .  .  1\n",
    "    # .  x  .  -1\n",
    "    # s  .  .  .\n",
    "    \n",
    "    # 1, -1 are rewards for the corresponding positions\n",
    "    # 'x'  not allowed\n",
    "    # 's'  start state\n",
    "    grid = Grid(3, 4, (2,0))\n",
    "    rewards = {(0,3) : 1, (1,3) : -1}\n",
    "    actions = {\n",
    "        (0, 0): ('D', 'R'),\n",
    "        (0, 1): ('L', 'R'),\n",
    "        (0, 2): ('L', 'D', 'R'),\n",
    "        (1, 0): ('U', 'D'),\n",
    "        (1, 2): ('U', 'D', 'R'),\n",
    "        (2, 0): ('U', 'R'),\n",
    "        (2, 1): ('L', 'R'),\n",
    "        (2, 2): ('L', 'R', 'U'),\n",
    "        (2, 3): ('L', 'U'),\n",
    "    }\n",
    "    grid.set(rewards, actions)\n",
    "    return grid"
   ]
  },
  {
   "cell_type": "code",
   "execution_count": 4,
   "metadata": {
    "collapsed": true
   },
   "outputs": [],
   "source": [
    "def negative_grid(step_cost=-0.1):\n",
    "    grid = standard_grid()\n",
    "    grid.rewards.update({\n",
    "            (0, 0): step_cost,\n",
    "            (0, 1): step_cost,\n",
    "            (0, 2): step_cost,\n",
    "            (1, 0): step_cost,\n",
    "            (1, 2): step_cost,\n",
    "            (2, 0): step_cost,\n",
    "            (2, 1): step_cost,\n",
    "            (2, 2): step_cost,\n",
    "            (2, 3): step_cost,\n",
    "    })\n",
    "    return grid"
   ]
  },
  {
   "cell_type": "code",
   "execution_count": 5,
   "metadata": {
    "collapsed": true
   },
   "outputs": [],
   "source": [
    "def print_values(V, grid):\n",
    "    for i in range(grid.width):\n",
    "        print(\"---------------------------\")\n",
    "        for j in range(grid.height):\n",
    "            v = V.get((i,j), 0)\n",
    "            if v >= 0:\n",
    "                print(\" %.2f|\" % v, end=\"\")\n",
    "            else:\n",
    "                print(\"%.2f|\" % v, end=\"\") \n",
    "        print(\"\")"
   ]
  },
  {
   "cell_type": "code",
   "execution_count": 6,
   "metadata": {
    "collapsed": true
   },
   "outputs": [],
   "source": [
    "def print_policy(P, grid):\n",
    "    for i in range(grid.width):\n",
    "        print(\"---------------------------\")\n",
    "        for j in range(grid.height):\n",
    "            a = P.get((i,j), ' ')\n",
    "            print(\"  %s  |\" % a, end=\"\")\n",
    "        print(\"\")"
   ]
  },
  {
   "cell_type": "code",
   "execution_count": 7,
   "metadata": {
    "collapsed": false
   },
   "outputs": [],
   "source": [
    "CONVERGENCE_THRESHOLD = 10e-4\n",
    "GAMMA = 0.9\n",
    "POSSIBLE_ACTIONS  = ('U','D','L','R') "
   ]
  },
  {
   "cell_type": "code",
   "execution_count": 8,
   "metadata": {
    "collapsed": true
   },
   "outputs": [],
   "source": [
    "def max_value_action(d):    \n",
    "\n",
    "    max_key = None\n",
    "    max_value = float('-inf')\n",
    "    for k,v in d.items():\n",
    "        if v > max_value :\n",
    "            max_value = v\n",
    "            max_key = k\n",
    "    return max_key,max_value"
   ]
  },
  {
   "cell_type": "code",
   "execution_count": 9,
   "metadata": {
    "collapsed": true
   },
   "outputs": [],
   "source": [
    "def play_grid_world(grid, policy):\n",
    "    \n",
    "    # generate the start state randomly\n",
    "    start_state = list(grid.actions.keys())\n",
    "    start_index = np.random.choice(len(start_state))\n",
    "    grid.set_state(start_state[start_index])\n",
    "    \n",
    "    s = grid.current_state()\n",
    "    a = np.random.choice(POSSIBLE_ACTIONS)\n",
    "    \n",
    "    states_actions_rewards = [(s, a, 0)]\n",
    "    seen_states = set()\n",
    "    #play the game and capture the reward\n",
    "    while True:\n",
    "        old_s = grid.current_state() \n",
    "        r = grid.move(a)\n",
    "        s = grid.current_state()\n",
    "        if s in seen_states:\n",
    "            states_actions_rewards.append((s, None, -100))\n",
    "            break\n",
    "        elif grid.game_over():\n",
    "            states_actions_rewards.append((s,None,r))\n",
    "            break\n",
    "        else:\n",
    "            a = policy[s]\n",
    "            states_actions_rewards.append((s, a, r))\n",
    "        seen_states.add(s)\n",
    "        \n",
    "    \n",
    "    # calculate returns\n",
    "    G = 0\n",
    "    states_actions_returns = []\n",
    "    first = True\n",
    "    for s, a, r in reversed(states_actions_rewards):\n",
    "        if first:\n",
    "            first = False\n",
    "        else:\n",
    "            states_actions_returns.append((s,a,G))\n",
    "        G = r + GAMMA * G\n",
    "    states_actions_returns.reverse()\n",
    "    return states_actions_returns"
   ]
  },
  {
   "cell_type": "code",
   "execution_count": 10,
   "metadata": {
    "collapsed": false
   },
   "outputs": [
    {
     "name": "stdout",
     "output_type": "stream",
     "text": [
      "rewards:\n",
      "---------------------------\n",
      "-0.10|-0.10|-0.10| 1.00|\n",
      "---------------------------\n",
      "-0.10| 0.00|-0.10|-1.00|\n",
      "---------------------------\n",
      "-0.10|-0.10|-0.10|-0.10|\n",
      "0\n",
      "100\n",
      "200\n",
      "300\n",
      "400\n",
      "500\n",
      "600\n",
      "700\n",
      "800\n",
      "900\n",
      "1000\n",
      "1100\n",
      "1200\n",
      "1300\n",
      "1400\n",
      "1500\n",
      "1600\n",
      "1700\n",
      "1800\n",
      "1900\n"
     ]
    },
    {
     "data": {
      "image/png": "[encoded data removed]",
      "text/plain": [
       "<matplotlib.figure.Figure at 0x2b5013b0f98>"
      ]
     },
     "metadata": {},
     "output_type": "display_data"
    },
    {
     "name": "stdout",
     "output_type": "stream",
     "text": [
      "\n",
      "final policy:\n",
      "---------------------------\n",
      "  R  |  R  |  R  |     |\n",
      "---------------------------\n",
      "  U  |     |  R  |     |\n",
      "---------------------------\n",
      "  U  |  R  |  U  |  U  |\n",
      "\n",
      "final values:\n",
      "---------------------------\n",
      " 0.51| 0.70| 1.00| 0.00|\n",
      "---------------------------\n",
      " 0.13| 0.00|-1.00| 0.00|\n",
      "---------------------------\n",
      "-0.26|-1.31|-1.17|-1.00|\n"
     ]
    }
   ],
   "source": [
    "if __name__ == '__main__':\n",
    "\n",
    "    #grid = standard_grid()\n",
    "    grid = negative_grid(step_cost=-0.1)\n",
    "\n",
    "    # print rewards\n",
    "    print(\"rewards:\")\n",
    "    print_values(grid.rewards, grid)\n",
    "\n",
    "    # initialize a random policy\n",
    "    policy = {}\n",
    "    for s in grid.actions.keys():\n",
    "        policy[s] = np.random.choice(POSSIBLE_ACTIONS)\n",
    "\n",
    "\n",
    "    # initialize Q(s,a) and returns\n",
    "    Q = {}\n",
    "    returns = {} \n",
    "    states = grid.all_states()\n",
    "\n",
    "    for s in states:\n",
    "        if s in grid.actions: \n",
    "            Q[s] = {}\n",
    "            for a in POSSIBLE_ACTIONS:\n",
    "                Q[s][a] = 0 \n",
    "                returns[(s,a)] = []\n",
    "        else:\n",
    "            pass\n",
    "\n",
    "    deltas = []\n",
    "    for t in range(2000):\n",
    "        if t % 100 == 0:\n",
    "            print(t)\n",
    "\n",
    "        biggest_change = 0\n",
    "        states_actions_returns = play_grid_world(grid, policy)\n",
    "        seen_state_action_pairs = set()\n",
    "\n",
    "        for s, a, G in states_actions_returns:\n",
    "            sa = (s, a)\n",
    "            if sa not in seen_state_action_pairs:\n",
    "                old_q = Q[s][a]\n",
    "                returns[sa].append(G)\n",
    "                Q[s][a] = np.mean(returns[sa])\n",
    "                biggest_change = max(biggest_change, np.abs(old_q - Q[s][a]))\n",
    "                seen_state_action_pairs.add(sa)\n",
    "\n",
    "        deltas.append(biggest_change)\n",
    "        \n",
    "        # update policy\n",
    "        for s in policy.keys():\n",
    "            policy[s] = max_value_action(Q[s])[0]\n",
    "\n",
    "    plt.plot(deltas)\n",
    "    plt.show()\n",
    "\n",
    "\n",
    "    print(\"\\nfinal policy:\")\n",
    "    print_policy(policy, grid)\n",
    "\n",
    "\n",
    "    # find V\n",
    "    V = {}\n",
    "    for s, Qs in Q.items():\n",
    "        V[s] = max_value_action(Q[s])[1]\n",
    "\n",
    "\n",
    "    print(\"\\nfinal values:\")\n",
    "    print_values(V, grid)"
   ]
  },
  {
   "cell_type": "code",
   "execution_count": null,
   "metadata": {
    "collapsed": true
   },
   "outputs": [],
   "source": []
  }
 ],
 "metadata": {
  "kernelspec": {
   "display_name": "Python 3",
   "language": "python",
   "name": "python3"
  },
  "language_info": {
   "codemirror_mode": {
    "name": "ipython",
    "version": 3
   },
   "file_extension": ".py",
   "mimetype": "text/x-python",
   "name": "python",
   "nbconvert_exporter": "python",
   "pygments_lexer": "ipython3",
   "version": "3.6.2"
  }
 },
 "nbformat": 4,
 "nbformat_minor": 0
}
