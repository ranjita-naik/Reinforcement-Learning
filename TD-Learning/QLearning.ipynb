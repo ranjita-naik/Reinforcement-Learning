{
 "cells": [
  {
   "cell_type": "code",
   "execution_count": 1,
   "metadata": {
    "collapsed": false
   },
   "outputs": [],
   "source": [
    "from __future__ import print_function, division\n",
    "from builtins import range\n",
    "import numpy as np\n",
    "import matplotlib.pyplot as plt\n",
    "%matplotlib inline"
   ]
  },
  {
   "cell_type": "code",
   "execution_count": 2,
   "metadata": {
    "collapsed": true
   },
   "outputs": [],
   "source": [
    "ALPHA = 0.1\n",
    "GAMMA = 0.9\n",
    "POSSIBLE_ACTIONS = ('U','D','L','R') "
   ]
  },
  {
   "cell_type": "code",
   "execution_count": 3,
   "metadata": {
    "collapsed": true
   },
   "outputs": [],
   "source": [
    "#Environment\n",
    "class Grid:\n",
    "    def __init__(self, width, height, start):\n",
    "        self.width = width\n",
    "        self.height = height\n",
    "        self.i = start[0]\n",
    "        self.j = start[1]\n",
    "        \n",
    "    def set(self, rewards, actions):\n",
    "        self.rewards = rewards\n",
    "        self.actions = actions\n",
    "        \n",
    "    def set_state(self, state):\n",
    "        self.i = state[0]\n",
    "        self.j = state[1]\n",
    "        \n",
    "    def current_state(self):\n",
    "        return(self.i, self.j)\n",
    "\n",
    "    def is_terminal(self, s):\n",
    "        return s not in self.actions \n",
    "    \n",
    "    def move(self, action):\n",
    "        if action in self.actions[(self.i, self.j)]:\n",
    "            if action == 'U':\n",
    "                self.i -= 1\n",
    "            elif action =='D':\n",
    "                self.i += 1\n",
    "            elif action == 'R':\n",
    "                self.j += 1\n",
    "            elif action == 'L':\n",
    "                self.j -= 1 \n",
    "        \n",
    "        return self.rewards.get((self.i, self.j), 0)\n",
    "        \n",
    "    \n",
    "    def undo_move(self):\n",
    "        if action == 'U':\n",
    "            self.i += 1\n",
    "        elif action =='D':\n",
    "            self.i -= 1\n",
    "        elif action == 'R':\n",
    "            self.j -= 1\n",
    "        elif action == 'L':\n",
    "            self.j += 1 \n",
    "        \n",
    "        assert(self.current_state() in self.all_states())\n",
    "                \n",
    "            \n",
    "    def game_over(self):\n",
    "        return (self.i, self.j) not in self.actions\n",
    "    \n",
    "    \n",
    "    def all_states(self):\n",
    "        return set().union(self.actions.keys(), self.rewards.keys())\n",
    "\n",
    "    "
   ]
  },
  {
   "cell_type": "code",
   "execution_count": 4,
   "metadata": {
    "collapsed": true
   },
   "outputs": [],
   "source": [
    "def standard_grid():\n",
    "    # .  .  .  1\n",
    "    # .  x  .  -1\n",
    "    # s  .  .  .\n",
    "    \n",
    "    # 1, -1 are rewards for the corresponding positions\n",
    "    # 'x'  not allowed\n",
    "    # 's'  start state\n",
    "    grid = Grid(3, 4, (2,0))\n",
    "    rewards = {(0,3) : 1, (1,3) : -1}\n",
    "    actions = {\n",
    "        (0, 0): ('D', 'R'),\n",
    "        (0, 1): ('L', 'R'),\n",
    "        (0, 2): ('L', 'D', 'R'),\n",
    "        (1, 0): ('U', 'D'),\n",
    "        (1, 2): ('U', 'D', 'R'),\n",
    "        (2, 0): ('U', 'R'),\n",
    "        (2, 1): ('L', 'R'),\n",
    "        (2, 2): ('L', 'R', 'U'),\n",
    "        (2, 3): ('L', 'U'),\n",
    "    }\n",
    "    grid.set(rewards, actions)\n",
    "    return grid"
   ]
  },
  {
   "cell_type": "code",
   "execution_count": 5,
   "metadata": {
    "collapsed": true
   },
   "outputs": [],
   "source": [
    "def negative_grid(step_cost=-0.1):\n",
    "    grid = standard_grid()\n",
    "    grid.rewards.update({\n",
    "            (0, 0): step_cost,\n",
    "            (0, 1): step_cost,\n",
    "            (0, 2): step_cost,\n",
    "            (1, 0): step_cost,\n",
    "            (1, 2): step_cost,\n",
    "            (2, 0): step_cost,\n",
    "            (2, 1): step_cost,\n",
    "            (2, 2): step_cost,\n",
    "            (2, 3): step_cost,\n",
    "    })\n",
    "    return grid"
   ]
  },
  {
   "cell_type": "code",
   "execution_count": 6,
   "metadata": {
    "collapsed": true
   },
   "outputs": [],
   "source": [
    "def print_values(V, grid):\n",
    "    for i in range(grid.width):\n",
    "        print(\"---------------------------\")\n",
    "        for j in range(grid.height):\n",
    "            v = V.get((i,j), 0)\n",
    "            if v >= 0:\n",
    "                print(\" %.2f|\" % v, end=\"\")\n",
    "            else:\n",
    "                print(\"%.2f|\" % v, end=\"\") \n",
    "        print(\"\")"
   ]
  },
  {
   "cell_type": "code",
   "execution_count": 7,
   "metadata": {
    "collapsed": true
   },
   "outputs": [],
   "source": [
    "def print_policy(P, grid):\n",
    "    for i in range(grid.width):\n",
    "        print(\"---------------------------\")\n",
    "        for j in range(grid.height):\n",
    "            a = P.get((i,j), ' ')\n",
    "            print(\"  %s  |\" % a, end=\"\")\n",
    "        print(\"\")"
   ]
  },
  {
   "cell_type": "code",
   "execution_count": 8,
   "metadata": {
    "collapsed": false
   },
   "outputs": [],
   "source": [
    "def random_action(a, eps=0.1):\n",
    "    p = np.random.random()\n",
    "    if p < eps:\n",
    "        return np.random.choice(POSSIBLE_ACTIONS)\n",
    "    else:\n",
    "        return a"
   ]
  },
  {
   "cell_type": "code",
   "execution_count": 9,
   "metadata": {
    "collapsed": true
   },
   "outputs": [],
   "source": [
    "def max_dict(d):\n",
    "    max_key = None\n",
    "    max_val = float('-inf')\n",
    "\n",
    "    for k, v in d.items():\n",
    "        if v > max_val:\n",
    "            max_val = v\n",
    "            max_key = k\n",
    "    return max_key, max_val"
   ]
  },
  {
   "cell_type": "code",
   "execution_count": 11,
   "metadata": {
    "collapsed": false
   },
   "outputs": [
    {
     "name": "stdout",
     "output_type": "stream",
     "text": [
      "Rewards\n",
      "---------------------------\n",
      "-0.10|-0.10|-0.10| 1.00|\n",
      "---------------------------\n",
      "-0.10| 0.00|-0.10|-1.00|\n",
      "---------------------------\n",
      "-0.10|-0.10|-0.10|-0.10|\n"
     ]
    },
    {
     "data": {
      "image/png": "[encoded data removed]",
      "text/plain": [
       "<matplotlib.figure.Figure at 0x2245bdfdd68>"
      ]
     },
     "metadata": {},
     "output_type": "display_data"
    },
    {
     "name": "stdout",
     "output_type": "stream",
     "text": [
      "update counts:\n",
      "---------------------------\n",
      " 0.26| 0.05| 0.04| 0.00|\n",
      "---------------------------\n",
      " 0.13| 0.00| 0.01| 0.00|\n",
      "---------------------------\n",
      " 0.28| 0.07| 0.05| 0.11|\n",
      "\n",
      "\n",
      "values:\n",
      "---------------------------\n",
      " 0.62| 0.80| 1.00| 0.00|\n",
      "---------------------------\n",
      " 0.46| 0.00| 0.80| 0.00|\n",
      "---------------------------\n",
      " 0.31| 0.46| 0.62| 0.46|\n",
      "\n",
      "\n",
      "policy:\n",
      "---------------------------\n",
      "  R  |  R  |  R  |     |\n",
      "---------------------------\n",
      "  U  |     |  U  |     |\n",
      "---------------------------\n",
      "  U  |  R  |  U  |  L  |\n"
     ]
    }
   ],
   "source": [
    "if __name__ == '__main__':\n",
    "    grid = negative_grid(step_cost=-0.1)\n",
    "    \n",
    "    print(\"Rewards\")\n",
    "    print_values(grid.rewards, grid)\n",
    "    \n",
    "    \n",
    "    Q = {}\n",
    "    states = grid.all_states()\n",
    "    for s in states:\n",
    "        Q[s] = {}\n",
    "        for a in POSSIBLE_ACTIONS:\n",
    "            Q[s][a] = 0\n",
    "            \n",
    "    update_counts = {}\n",
    "    update_counts_sa = {}\n",
    "    for s in states:\n",
    "        update_counts_sa[s] = {}\n",
    "        for a in POSSIBLE_ACTIONS:\n",
    "            update_counts_sa[s][a] = 1.0\n",
    "    \n",
    "    \n",
    "    deltas = []\n",
    "    t = 1.0\n",
    "    for e in range(10000):\n",
    "        if e % 100 == 0:\n",
    "           t+= 1e-2 \n",
    "    \n",
    "        s = (2,0)\n",
    "        grid.set_state(s)\n",
    "        \n",
    "        \n",
    "        a = max_dict(Q[s])[0]\n",
    "        max_change = 0\n",
    "        \n",
    "        while not grid.game_over():\n",
    "            a = random_action(a, eps=0.5/t)\n",
    "                       \n",
    "            r = grid.move(a)\n",
    "            s_next = grid.current_state()\n",
    "            \n",
    "            a_next, max_q_s_next_a_next = max_dict(Q[s_next])\n",
    "                        \n",
    "            alpha = ALPHA / update_counts_sa[s][a]\n",
    "            update_counts_sa[s][a] += 0.005\n",
    "            old_qsa = Q[s][a]\n",
    "            Q[s][a] = Q[s][a] + alpha *(r + GAMMA * max_q_s_next_a_next - Q[s][a])\n",
    "\n",
    "            max_change = max(max_change, np.abs(old_qsa - Q[s][a]))\n",
    "            update_counts[s] = update_counts.get(s,0) + 1\n",
    "\n",
    "            s = s_next\n",
    "\n",
    "        deltas.append(max_change)\n",
    "        \n",
    "        \n",
    "    plt.plot(deltas)\n",
    "    plt.show()\n",
    "\n",
    "    # determine the policy from Q*\n",
    "    # find V* from Q*\n",
    "    policy = {}\n",
    "    V = {}\n",
    "    for s in grid.actions.keys():\n",
    "        a, max_q = max_dict(Q[s])\n",
    "        policy[s] = a\n",
    "        V[s] = max_q\n",
    "\n",
    "\n",
    "    print(\"update counts:\")\n",
    "    total = np.sum(list(update_counts.values()))\n",
    "    for k, v in update_counts.items():\n",
    "        update_counts[k] = float(v) / total\n",
    "    print_values(update_counts, grid)\n",
    "\n",
    "\n",
    "    print(\"\\n\\nvalues:\")\n",
    "    print_values(V, grid)\n",
    "\n",
    "    print(\"\\n\\npolicy:\")\n",
    "    print_policy(policy, grid)"
   ]
  }
 ],
 "metadata": {
  "kernelspec": {
   "display_name": "Python 3",
   "language": "python",
   "name": "python3"
  },
  "language_info": {
   "codemirror_mode": {
    "name": "ipython",
    "version": 3
   },
   "file_extension": ".py",
   "mimetype": "text/x-python",
   "name": "python",
   "nbconvert_exporter": "python",
   "pygments_lexer": "ipython3",
   "version": "3.6.2"
  }
 },
 "nbformat": 4,
 "nbformat_minor": 0
}
